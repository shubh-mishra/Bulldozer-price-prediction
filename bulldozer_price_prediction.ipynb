{
  "cells": [
    {
      "cell_type": "markdown",
      "metadata": {
        "id": "-KeWvJxrc89E"
      },
      "source": [
        "# Predicting the Sale Price of Bulldozer using Machine Learning"
      ]
    },
    {
      "cell_type": "markdown",
      "metadata": {
        "id": "lMwaSlwAfWwc"
      },
      "source": [
        "### 1. Problem Definition\n",
        "\n",
        "How well can we predict the future sale price of a bulldozer, given its characteristics previous examples of how much similar bulldozers have been sold for?"
      ]
    },
    {
      "cell_type": "markdown",
      "metadata": {
        "id": "z9-Gx40GftXN"
      },
      "source": [
        "### 2. Data\n",
        "\n",
        "Kaggle dataset - https://www.kaggle.com/competitions/bluebook-for-bulldozers/data\n",
        "\n",
        "1. **Traiin.csv** - Historical bulldozer sales examples up to 2011\n",
        "2. **Valid.csv** - Historical bulldozer sales examples from January 1 2012\n",
        "3. **Test.csv** - Historical bulldozer sales examples from May 1 2012 to Nov 2012"
      ]
    },
    {
      "cell_type": "markdown",
      "metadata": {
        "id": "6ksg804OgpfG"
      },
      "source": [
        "### 3. Evaluation\n",
        "\n",
        "Root Mean Squared Log Error (RMSLE)"
      ]
    },
    {
      "cell_type": "code",
      "execution_count": null,
      "metadata": {
        "id": "FNl8YwGDc2OU"
      },
      "outputs": [],
      "source": [
        "  "
      ]
    }
  ],
  "metadata": {
    "colab": {
      "provenance": []
    },
    "kernelspec": {
      "display_name": "Python 3",
      "name": "python3"
    },
    "language_info": {
      "name": "python"
    }
  },
  "nbformat": 4,
  "nbformat_minor": 0
}
